{
 "cells": [
  {
   "cell_type": "code",
   "execution_count": 4,
   "metadata": {},
   "outputs": [],
   "source": [
    "import xarray as xr\n",
    "import pandas as pd\n",
    "import numpy as np\n",
    "import yaml\n",
    "from interpolation import VerticalGrid"
   ]
  },
  {
   "cell_type": "code",
   "execution_count": 36,
   "metadata": {},
   "outputs": [],
   "source": [
    "# filepaths\n",
    "geos_chem_ch4_filepath = \"data/GEOSChem.SpeciesConc.20190822_0000z.nc4\"\n",
    "geos_chem_level_edges_filepath = \"data/GEOSChem.LevelEdgeDiags.20190822_0000z.nc4\"\n",
    "gosat_file_path = (\n",
    "    \"data/UoL-GHG-L2-CH4-GOSAT-OCPR-20190822-fv9.0.nc\"\n",
    ")\n",
    "# load config file\n",
    "with open(\"config.yaml\", \"r\", encoding=\"utf8\") as f:\n",
    "    config = yaml.safe_load(f)"
   ]
  },
  {
   "cell_type": "code",
   "execution_count": 27,
   "metadata": {},
   "outputs": [],
   "source": [
    "model_fields = config[\"MODEL\"]\n",
    "sat_fields = config[\"GOSATv9_0\"][\"DATA_FIELDS\"]\n",
    "\n",
    "def read_GOSATv9_0(file_path):\n",
    "    fields = sat_fields\n",
    "    gosat = xr.open_dataset(file_path)\n",
    "    [\n",
    "        [\n",
    "            fields[\"LATITUDE\"],\n",
    "            fields[\"LONGITUDE\"],\n",
    "            fields[\"PRESSURE_EDGES\"],\n",
    "            fields[\"TIME\"],\n",
    "            fields[\"PRESSURE_WEIGHT\"],\n",
    "            fields[\"AVERAGING_KERNEL\"],\n",
    "            fields[\"PRIOR_PROFILE\"],\n",
    "            fields[\"SATELLITE_COLUMN\"],\n",
    "            fields[\"QUALITY_FLAG\"],\n",
    "        ]\n",
    "    ]\n",
    "    gosat = gosat.where(gosat[fields[\"QUALITY_FLAG\"]] == 0, drop=True)\n",
    "    gosat = gosat.where(\n",
    "        np.all(gosat[\"pressure_levels\"] > 0, axis=1), drop=True\n",
    "    )  # (todo: don't need to skip these... fix)\n",
    "    return gosat\n",
    "\n",
    "\n",
    "def colocate_gridcells(model, satellite):\n",
    "    \"\"\"\n",
    "    directly from Hannah's code\n",
    "    get gridcells which are coincident with each satellite observation\n",
    "    assumes model pixel size >> satellite pixel size\n",
    "    fast implementation, credit Nick\n",
    "    \"\"\"\n",
    "    # Find the grid box and time indices corresponding to TROPOMI obs\n",
    "    fields = sat_fields\n",
    "    # i index\n",
    "    iGC = np.abs(\n",
    "        model.lon.values.reshape((-1, 1))\n",
    "        - satellite[fields[\"LATITUDE\"]].values.reshape((1, -1))\n",
    "    )\n",
    "    iGC = iGC.argmin(axis=0)\n",
    "\n",
    "    # j index\n",
    "    jGC = np.abs(\n",
    "        model.lat.values.reshape((-1, 1))\n",
    "        - satellite[fields[\"LONGITUDE\"]].values.reshape((1, -1))\n",
    "    )\n",
    "    jGC = jGC.argmin(axis=0)\n",
    "\n",
    "    # Time index\n",
    "    tGC = np.where(satellite[fields[\"TIME\"]].dt.hour == model.time.dt.hour)[1]\n",
    "\n",
    "    return iGC, jGC, tGC\n",
    "\n",
    "\n",
    "def get_model_columns(\n",
    "    model_ch4,\n",
    "    model_edges,\n",
    "    sat,\n",
    "    centers_or_edges,\n",
    "):\n",
    "    \"\"\"\n",
    "    generic function to apply an operator to a satellite\n",
    "    takes:\n",
    "        - GEOS-Chem dataframe (not a problem b/c this is standard)\n",
    "        - all required satellite inputs as np arrays\n",
    "    \"\"\"\n",
    "    # for nobs observations at one time:\n",
    "    iGC, jGC, tGC = colocate_gridcells(model_ch4, sat)\n",
    "    model_on_sat_levels = (\n",
    "        VerticalGrid(\n",
    "            model_conc_at_layers=model_ch4[\n",
    "                model_fields[\"CONCENTRATION_AT_PRESSURE_CENTERS\"]\n",
    "            ]\n",
    "            .transpose(\"time\", \"lon\", \"lat\", \"lev\")\n",
    "            .values[tGC, iGC, jGC, :],\n",
    "            model_edges=model_edges[model_fields[\"PRESSURE_EDGES\"]]\n",
    "            .transpose(\"time\", \"lon\", \"lat\", \"ilev\")\n",
    "            .values[tGC, iGC, jGC, :],\n",
    "            satellite_edges=sat[sat_fields[\"PRESSURE_EDGES\"]],\n",
    "            interpolate_to_centers_or_edges=centers_or_edges,\n",
    "        ).interpolate()\n",
    "        * 1e9\n",
    "    )\n",
    "\n",
    "    sat_prior = sat[sat_fields[\"PRIOR_PROFILE\"]]\n",
    "    sat_avker = sat[sat_fields[\"AVERAGING_KERNEL\"]]\n",
    "    sat_pressure_weight = sat[sat_fields[\"PRESSURE_WEIGHT\"]]\n",
    "\n",
    "    model_column = np.sum(\n",
    "        sat_pressure_weight\n",
    "        * (sat_prior + sat_avker * (model_on_sat_levels - sat_prior)),\n",
    "        axis=1,\n",
    "    )\n",
    "    sat_column = sat[sat_fields[\"SATELLITE_COLUMN\"]]\n",
    "\n",
    "    return model_column, sat_column"
   ]
  },
  {
   "cell_type": "code",
   "execution_count": 28,
   "metadata": {},
   "outputs": [],
   "source": [
    "# read files\n",
    "model_ch4 = xr.open_dataset(geos_chem_ch4_filepath)\n",
    "model_edges = xr.open_dataset(geos_chem_level_edges_filepath)\n",
    "gosat = read_GOSATv9_0(gosat_file_path)"
   ]
  },
  {
   "cell_type": "code",
   "execution_count": 29,
   "metadata": {},
   "outputs": [],
   "source": [
    "# run column operator\n",
    "model_columns, sat_columns = get_model_columns(\n",
    "    model_ch4, \n",
    "    model_edges,\n",
    "    gosat, \n",
    "    centers_or_edges = \"edges\"\n",
    ")"
   ]
  },
  {
   "cell_type": "code",
   "execution_count": 35,
   "metadata": {},
   "outputs": [
    {
     "data": {
      "text/plain": [
       "<matplotlib.collections.PathCollection at 0x1293f9310>"
      ]
     },
     "execution_count": 35,
     "metadata": {},
     "output_type": "execute_result"
    },
    {
     "data": {
      "image/png": "[encoded data removed]",
      "text/plain": [
       "<Figure size 640x480 with 1 Axes>"
      ]
     },
     "metadata": {},
     "output_type": "display_data"
    }
   ],
   "source": [
    "import matplotlib.pyplot as plt\n",
    "\n",
    "plt.scatter(model_columns, sat_columns)"
   ]
  }
 ],
 "metadata": {
  "kernelspec": {
   "display_name": "py311",
   "language": "python",
   "name": "python3"
  },
  "language_info": {
   "codemirror_mode": {
    "name": "ipython",
    "version": 3
   },
   "file_extension": ".py",
   "mimetype": "text/x-python",
   "name": "python",
   "nbconvert_exporter": "python",
   "pygments_lexer": "ipython3",
   "version": "3.11.3"
  },
  "orig_nbformat": 4
 },
 "nbformat": 4,
 "nbformat_minor": 2
}
